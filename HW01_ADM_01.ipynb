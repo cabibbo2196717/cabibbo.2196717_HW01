{
 "cells": [
  {
   "cell_type": "code",
   "execution_count": null,
   "metadata": {},
   "outputs": [],
   "source": [
    "# Say \"Hello, World!\" With Python\n",
    "\n",
    "if __name__ == '__main__':\n",
    "    print(\"Hello, World!\")"
   ]
  },
  {
   "cell_type": "code",
   "execution_count": null,
   "metadata": {},
   "outputs": [],
   "source": [
    "# Python If-Else\n",
    "\n",
    "#!/bin/python3\n",
    "\n",
    "import math\n",
    "import os\n",
    "import random\n",
    "import re\n",
    "import sys\n",
    "\n",
    "\n",
    "\n",
    "if __name__ == '__main__':\n",
    "    n = int(input().strip())\n",
    "if (n%2 != 0) or (n%2 == 0 and 6<=n<=20):\n",
    "    print('Weird')\n",
    "elif n%2 == 0 and (2<=n<=5 or n>20):\n",
    "    print('Not Weird')"
   ]
  },
  {
   "cell_type": "code",
   "execution_count": null,
   "metadata": {},
   "outputs": [],
   "source": [
    "# Arithmetic Operators\n",
    "\n",
    "if __name__ == '__main__':\n",
    "    a = int(input())\n",
    "    b = int(input())\n",
    "    print(a+b)\n",
    "    print(a-b)\n",
    "    print(a*b)"
   ]
  },
  {
   "cell_type": "code",
   "execution_count": null,
   "metadata": {},
   "outputs": [],
   "source": [
    "# Python: Division\n",
    "\n",
    "if __name__ == '__main__':\n",
    "    a = int(input())\n",
    "    b = int(input())\n",
    "    print(a//b)\n",
    "    print(a/b)"
   ]
  },
  {
   "cell_type": "code",
   "execution_count": null,
   "metadata": {},
   "outputs": [],
   "source": [
    "# Loops\n",
    "\n",
    "if __name__ == '__main__':\n",
    "    n = int(input())\n",
    "    for i in range(n):\n",
    "        print(i**2)"
   ]
  },
  {
   "cell_type": "code",
   "execution_count": null,
   "metadata": {},
   "outputs": [],
   "source": [
    "# Write a function\n",
    "\n",
    "def is_leap(year):\n",
    "    leap = False\n",
    "    # Write your logic here\n",
    "    if year%4 != 0 or (year%4 == 0 and year%100 == 0 and not year%400 == 0):\n",
    "        return leap\n",
    "    if (year%4 == 0 and year%100 != 0) or (year%4 == 0 and year%100 == 0 and year%400 == 0):\n",
    "        leap = True    \n",
    "    return leap\n",
    "\n",
    "year = int(input())"
   ]
  },
  {
   "cell_type": "code",
   "execution_count": null,
   "metadata": {},
   "outputs": [],
   "source": [
    "# Print Function\n",
    "\n",
    "if __name__ == '__main__':\n",
    "    n = int(input())\n",
    "    for i in range(1, n+1):\n",
    "        print(str(i), end='')"
   ]
  },
  {
   "cell_type": "code",
   "execution_count": null,
   "metadata": {},
   "outputs": [],
   "source": [
    "# List Comprehensions\n",
    "\n",
    "if __name__ == '__main__':\n",
    "    x = int(input())\n",
    "    y = int(input())\n",
    "    z = int(input())\n",
    "    n = int(input())\n",
    "    res = [[i, j, k] for i in range(x+1) for j in range(y+1) for k in range(z+1) if (i+j+k)!=n]"
   ]
  },
  {
   "cell_type": "code",
   "execution_count": null,
   "metadata": {},
   "outputs": [],
   "source": [
    "# Find the Runner-Up Score!\n",
    "\n",
    "if __name__ == '__main__':\n",
    "    n = int(input())\n",
    "    arr = map(int, input().split())\n",
    "    arr = sorted(list(arr))\n",
    "    higher = arr[0]\n",
    "    runner_up = arr[0]\n",
    "    for i in range(n):\n",
    "        if arr[i]>higher:\n",
    "            runner_up = higher\n",
    "            higher = arr[i]\n",
    "    print(runner_up)"
   ]
  },
  {
   "cell_type": "code",
   "execution_count": null,
   "metadata": {},
   "outputs": [],
   "source": [
    "# Nested Lists\n",
    "\n",
    "if __name__ == '__main__':\n",
    "    students = []\n",
    "    for _ in range(int(input())):\n",
    "        name = input()\n",
    "        score = float(input())\n",
    "        students.append([name, score])\n",
    "    \n",
    "scores = sorted(set([students[i][1] for i in range(len(students))]))\n",
    "students = sorted(students)\n",
    "for i in range(len(students)):\n",
    "    if students[i][1] == scores[1]:\n",
    "        print(students[i][0])"
   ]
  },
  {
   "cell_type": "code",
   "execution_count": null,
   "metadata": {},
   "outputs": [],
   "source": [
    "# Finding the percentage\n",
    "\n",
    "if __name__ == '__main__':\n",
    "    n = int(input())\n",
    "    student_marks = {}\n",
    "    for _ in range(n):\n",
    "        name, *line = input().split()\n",
    "        scores = list(map(float, line))\n",
    "        student_marks[name] = scores\n",
    "    query_name = input()\n",
    "    tot = sum(student_marks[query_name])\n",
    "    num = len(student_marks[query_name])\n",
    "    print(format(tot/num, '.2f'))"
   ]
  },
  {
   "cell_type": "code",
   "execution_count": null,
   "metadata": {},
   "outputs": [],
   "source": [
    "# Lists\n",
    "\n",
    "if __name__ == '__main__':\n",
    "    N = int(input())\n",
    "    lst = []\n",
    "    for i in range(N):\n",
    "        instruction = input().split()\n",
    "        if instruction[0] == 'insert':\n",
    "            lst.insert(int(instruction[1]), int(instruction[2]))\n",
    "        elif instruction[0] == 'print':\n",
    "            print(lst)\n",
    "        elif instruction[0] == 'remove':\n",
    "            lst.remove(int(instruction[1]))\n",
    "        elif instruction[0] == 'append':\n",
    "            lst.append(int(instruction[1]))\n",
    "        elif instruction[0] == 'sort':\n",
    "            lst.sort()\n",
    "        elif instruction[0] == 'pop':\n",
    "            lst.pop()\n",
    "        else:\n",
    "            lst.reverse()"
   ]
  },
  {
   "cell_type": "code",
   "execution_count": null,
   "metadata": {},
   "outputs": [],
   "source": [
    "# Tuples\n",
    "\n",
    "if __name__ == '__main__':\n",
    "    n = int(input())\n",
    "    integer_list = map(int, input().split())\n",
    "    print(hash(tuple(integer_list)))"
   ]
  },
  {
   "cell_type": "code",
   "execution_count": null,
   "metadata": {},
   "outputs": [],
   "source": [
    "# sWAP cASE\n",
    "\n",
    "def swap_case(s):\n",
    "    s2 = ''\n",
    "    for i in range(len(s)):\n",
    "        if s[i].isupper():\n",
    "            s2 += str(s[i].lower())\n",
    "        else:\n",
    "            s2 += str(s[i].upper())\n",
    "    return s2"
   ]
  },
  {
   "cell_type": "code",
   "execution_count": null,
   "metadata": {},
   "outputs": [],
   "source": [
    "# String Split and Join\n",
    "\n",
    "def split_and_join(line):\n",
    "    # write your code here\n",
    "    return '-'.join(line.split(' '))"
   ]
  },
  {
   "cell_type": "code",
   "execution_count": null,
   "metadata": {},
   "outputs": [],
   "source": [
    "# What's Your Name?\n",
    "\n",
    "def print_full_name(first, last):\n",
    "    # Write your code here\n",
    "    print(f'Hello {first} {last}! You just delved into python.')"
   ]
  },
  {
   "cell_type": "code",
   "execution_count": null,
   "metadata": {},
   "outputs": [],
   "source": [
    "# Mutations\n",
    "\n",
    "def mutate_string(string, position, character):\n",
    "    string_as_list = list(string)\n",
    "    string_as_list[position] = character\n",
    "    return ''.join(string_as_list)"
   ]
  },
  {
   "cell_type": "code",
   "execution_count": null,
   "metadata": {},
   "outputs": [],
   "source": [
    "# Find a string\n",
    "\n",
    "def count_substring(string, sub_string):\n",
    "    length = len(sub_string)\n",
    "    n = 0\n",
    "    for i in range(len(string)-length+1):\n",
    "        if string[i:i+length] == sub_string:\n",
    "            n += 1\n",
    "    return n"
   ]
  },
  {
   "cell_type": "code",
   "execution_count": null,
   "metadata": {},
   "outputs": [],
   "source": [
    "# String Validators\n",
    "\n",
    "if __name__ == '__main__':\n",
    "    s = input()\n",
    "    print(any(i.isalnum() for i in s))\n",
    "    print(any(i.isalpha() for i in s))\n",
    "    print(any(i.isdigit() for i in s))\n",
    "    print(any(i.islower() for i in s))\n",
    "    print(any(i.isupper() for i in s))"
   ]
  },
  {
   "cell_type": "code",
   "execution_count": null,
   "metadata": {},
   "outputs": [],
   "source": [
    "# Text Alignment\n",
    "\n",
    "# Enter your code here. Read input from STDIN. Print output to STDOUT\n",
    "#Replace all ______ with rjust, ljust or center.\n",
    "\n",
    "thickness = int(input()) #This must be an odd number\n",
    "c = 'H'\n",
    "\n",
    "#Top Cone\n",
    "for i in range(thickness):\n",
    "    print((c*i).rjust(thickness-1)+c+(c*i).ljust(thickness-1))\n",
    "\n",
    "#Top Pillars\n",
    "for i in range(thickness+1):\n",
    "    print((c*thickness).center(thickness*2)+(c*thickness).center(thickness*6))\n",
    "\n",
    "#Middle Belt\n",
    "for i in range((thickness+1)//2):\n",
    "    print((c*thickness*5).center(thickness*6))    \n",
    "\n",
    "#Bottom Pillars\n",
    "for i in range(thickness+1):\n",
    "    print((c*thickness).center(thickness*2)+(c*thickness).center(thickness*6))    \n",
    "\n",
    "#Bottom Cone\n",
    "for i in range(thickness):\n",
    "    print(((c*(thickness-i-1)).rjust(thickness)+c+(c*(thickness-i-1)).ljust(thickness)).rjust(thickness*6))\n",
    "\n"
   ]
  },
  {
   "cell_type": "code",
   "execution_count": null,
   "metadata": {},
   "outputs": [],
   "source": [
    "# Text Wrap\n",
    "import textwrap\n",
    "\n",
    "def wrap(string, max_width):\n",
    "    wrapped = textwrap.wrap(string, max_width)\n",
    "    return '\\n'.join(wrapped)"
   ]
  },
  {
   "cell_type": "code",
   "execution_count": null,
   "metadata": {},
   "outputs": [],
   "source": [
    "# Designer Door Mat\n",
    "\n",
    "# Enter your code here. Read input from STDIN. Print output to STDOUT\n",
    "\n",
    "dim = list(map(int, input().split()))\n",
    "for i in range(dim[0]//2):\n",
    "    j = int((i*2)+1)\n",
    "    print(('.|.'*j).center(dim[1], '-'))\n",
    "print('WELCOME'.center(dim[1], '-'))\n",
    "for i in reversed(range(dim[0]//2)):\n",
    "    j = int((i*2)+1)\n",
    "    print(('.|.'*j).center(dim[1], '-'))"
   ]
  },
  {
   "cell_type": "code",
   "execution_count": null,
   "metadata": {},
   "outputs": [],
   "source": [
    "# String Formatting\n",
    "\n"
   ]
  },
  {
   "cell_type": "code",
   "execution_count": null,
   "metadata": {},
   "outputs": [],
   "source": [
    "# Alphabet Rangoli\n",
    "\n"
   ]
  },
  {
   "cell_type": "code",
   "execution_count": null,
   "metadata": {},
   "outputs": [],
   "source": [
    "# Capitalize!\n",
    "\n",
    "# Complete the solve function below.\n",
    "def solve(s):\n",
    "    s2 = str(s[0].upper())\n",
    "    for i in range(1, len(s)):\n",
    "        if s[i-1] == ' ':\n",
    "            s2 += s[i].upper()\n",
    "        else:\n",
    "            s2 += s[i]\n",
    "    return s2"
   ]
  },
  {
   "cell_type": "code",
   "execution_count": null,
   "metadata": {},
   "outputs": [],
   "source": [
    "# The Minion Game\n",
    "\n"
   ]
  },
  {
   "cell_type": "code",
   "execution_count": null,
   "metadata": {},
   "outputs": [],
   "source": [
    "# Merge the Tools!\n",
    "\n"
   ]
  },
  {
   "cell_type": "code",
   "execution_count": null,
   "metadata": {},
   "outputs": [],
   "source": [
    "# Introduction to Sets\n",
    "\n",
    "def average(array):\n",
    "    # your code goes here\n",
    "    return round((sum(set(array))/len(set(array))), 3)"
   ]
  },
  {
   "cell_type": "code",
   "execution_count": null,
   "metadata": {},
   "outputs": [],
   "source": [
    "# No Idea!\n",
    "\n",
    "# Enter your code here. Read input from STDIN. Print output to STDOUT\n",
    "dim = list(map(int, input().split()))\n",
    "arr = list(map(int, input().split()))\n",
    "A = set(map(int, input().split()))\n",
    "B = set(map(int, input().split()))\n",
    "happiness = 0\n",
    "for i in arr:\n",
    "    if i in A:\n",
    "        happiness += 1\n",
    "    elif i in B:\n",
    "        happiness -= 1\n",
    "    else:\n",
    "        continue\n",
    "print(happiness)"
   ]
  },
  {
   "cell_type": "code",
   "execution_count": null,
   "metadata": {},
   "outputs": [],
   "source": [
    "# Symmetric Difference\n",
    "\n",
    "# Enter your code here. Read input from STDIN. Print output to STDOUT\n",
    "M = int(input())\n",
    "a = set(map(int, input().split()))\n",
    "N = int(input())\n",
    "b = set(map(int, input().split()))\n",
    "lst = []\n",
    "for i in a:\n",
    "    if i not in b:\n",
    "        lst.append(i)\n",
    "for j in b:\n",
    "    if j in b and j not in a.intersection(b):\n",
    "        lst.append(j)\n",
    "for k in sorted(lst):\n",
    "    print(k)"
   ]
  },
  {
   "cell_type": "code",
   "execution_count": null,
   "metadata": {},
   "outputs": [],
   "source": [
    "# Set.add()\n",
    "\n",
    "# Enter your code here. Read input from STDIN. Print output to STDOUT\n",
    "n = int(input())\n",
    "countries = set()\n",
    "for i in range(n):\n",
    "    countries.add(input())\n",
    "print(len(countries))"
   ]
  },
  {
   "cell_type": "code",
   "execution_count": null,
   "metadata": {},
   "outputs": [],
   "source": [
    "# Set .discard(), .remove() & .pop()\n",
    "\n",
    "n = int(input())\n",
    "s = set(map(int, input().split()))\n",
    "N = int(input())\n",
    "for i in range(N):\n",
    "    instruction = input().split()\n",
    "    if instruction[0] == 'pop' and len(s):\n",
    "        s.pop()\n",
    "    elif instruction[0] == 'remove' and int(instruction[1]) in s:\n",
    "        s.remove(int(instruction[1]))\n",
    "    elif instruction[0] == 'discard':\n",
    "        s.discard(int(instruction[1]))\n",
    "print(sum(s))"
   ]
  },
  {
   "cell_type": "code",
   "execution_count": null,
   "metadata": {},
   "outputs": [],
   "source": [
    "# Set .union() Operation\n",
    "\n",
    "# Enter your code here. Read input from STDIN. Print output to STDOUT\n",
    "n = int(input())\n",
    "english = set(map(int, input().split()))\n",
    "b = int(input())\n",
    "french = set(map(int, input().split()))\n",
    "print(len(english.union(french)))"
   ]
  },
  {
   "cell_type": "code",
   "execution_count": null,
   "metadata": {},
   "outputs": [],
   "source": [
    "# Set .intersection() Operation\n",
    "\n",
    "# Enter your code here. Read input from STDIN. Print output to STDOUT\n",
    "n = int(input())\n",
    "english = set(map(int, input().split()))\n",
    "b = int(input())\n",
    "french = set(map(int, input().split()))\n",
    "print(len(english.intersection(french)))"
   ]
  },
  {
   "cell_type": "code",
   "execution_count": null,
   "metadata": {},
   "outputs": [],
   "source": [
    "# Set .difference() Operation\n",
    "\n",
    "# Enter your code here. Read input from STDIN. Print output to STDOUT\n",
    "n = int(input())\n",
    "english = set(map(int, input().split()))\n",
    "b = int(input())\n",
    "french = set(map(int, input().split()))\n",
    "print(len(english.difference(french)))"
   ]
  },
  {
   "cell_type": "code",
   "execution_count": null,
   "metadata": {},
   "outputs": [],
   "source": [
    "# Set .symmetric_difference() Operation\n",
    "\n",
    "# Enter your code here. Read input from STDIN. Print output to STDOUT\n",
    "n = int(input())\n",
    "english = set(map(int, input().split()))\n",
    "b = int(input())\n",
    "french = set(map(int, input().split()))\n",
    "print(len(english.symmetric_difference(french)))"
   ]
  },
  {
   "cell_type": "code",
   "execution_count": null,
   "metadata": {},
   "outputs": [],
   "source": [
    "# Set Mutations\n",
    "\n",
    "# Enter your code here. Read input from STDIN. Print output to STDOUT\n",
    "n_A = int(input())\n",
    "A = set(map(int, input().split()))\n",
    "N = int(input())\n",
    "for i in range(N):\n",
    "    instruction = input().split()\n",
    "    B = set(map(int, input().split()))\n",
    "    if instruction[0] == 'update':\n",
    "        A.update(B)\n",
    "    elif instruction[0] == 'intersection_update':\n",
    "        A.intersection_update(B)\n",
    "    elif instruction[0] == 'difference_update':\n",
    "        A.difference_update(B)\n",
    "    elif instruction[0] == 'symmetric_difference_update':\n",
    "        A.symmetric_difference_update(B)\n",
    "print(sum(A))"
   ]
  },
  {
   "cell_type": "code",
   "execution_count": null,
   "metadata": {},
   "outputs": [],
   "source": [
    "# The Captain's Room\n",
    "\n",
    "# Enter your code here. Read input from STDIN. Print output to STDOUT\n",
    "from collections import Counter\n",
    "K = int(input())\n",
    "room_numbers = list(map(int, input().split()))\n",
    "room_numbers = Counter(room_numbers)\n",
    "for i in room_numbers.keys():\n",
    "    if room_numbers[i] == 1:\n",
    "        print(i)\n",
    "        break"
   ]
  },
  {
   "cell_type": "code",
   "execution_count": null,
   "metadata": {},
   "outputs": [],
   "source": [
    "# Check Subset\n",
    "\n",
    "# Enter your code here. Read input from STDIN. Print output to STDOUT\n",
    "T = int(input())\n",
    "for i in range(T):\n",
    "    n_A = int(input())\n",
    "    A = set(map(int, input().split()))\n",
    "    n_B = int(input())\n",
    "    B = set(map(int, input().split()))\n",
    "    print(A.issubset(B))"
   ]
  },
  {
   "cell_type": "code",
   "execution_count": null,
   "metadata": {},
   "outputs": [],
   "source": [
    "# Check Strict Superset\n",
    "\n",
    "# Enter your code here. Read input from STDIN. Print output to STDOUT\n",
    "\n",
    "A = set(map(int, input().split()))\n",
    "n = int(input())\n",
    "check = True\n",
    "for i in range(n):\n",
    "    B = set(map(int, input().split()))\n",
    "    if not A.issuperset(B):\n",
    "        check = False\n",
    "        break\n",
    "print(check)"
   ]
  },
  {
   "cell_type": "code",
   "execution_count": null,
   "metadata": {},
   "outputs": [],
   "source": [
    "# collections.Counter()\n",
    "\n",
    "# Enter your code here. Read input from STDIN. Print output to STDOUT\n",
    "from collections import Counter\n",
    "\n",
    "X = int(input())\n",
    "shoe_sizes = Counter(map(int, input().split()))\n",
    "N = int(input())\n",
    "shoe_sizes_prices = []\n",
    "for i in range(N):\n",
    "    shoe_sizes_prices.append(list(map(int, input().split())))\n",
    "revenue = 0\n",
    "for j in shoe_sizes_prices:\n",
    "    if j[0] in shoe_sizes.keys() and shoe_sizes[j[0]]:\n",
    "        revenue += j[1]\n",
    "        shoe_sizes[j[0]] -= 1\n",
    "print(revenue)"
   ]
  },
  {
   "cell_type": "code",
   "execution_count": null,
   "metadata": {},
   "outputs": [],
   "source": [
    "# DefaultDict Tutorial\n",
    "\n",
    "# Enter your code here. Read input from STDIN. Print output to STDOUT\n",
    "from collections import defaultdict\n",
    "\n",
    "n, m = map(int, input().split())\n",
    "A = [str(input()) for i in range(n)]\n",
    "B = [str(input()) for i in range(m)]\n",
    "d = defaultdict(list)\n",
    "\n",
    "for i in range(len(A)):\n",
    "    d[A[i]].append(i+1)\n",
    "for j in B:\n",
    "    if j in A:\n",
    "        print(*d[j])\n",
    "    else:\n",
    "        print(-1)\n"
   ]
  },
  {
   "cell_type": "code",
   "execution_count": null,
   "metadata": {},
   "outputs": [],
   "source": [
    "# Collections.namedtuple()\n",
    "\n",
    "# Enter your code here. Read input from STDIN. Print output to STDOUT\n",
    "from collections import namedtuple\n",
    "\n",
    "N = int(input())\n",
    "data = namedtuple('Data', map(str, input().split()))\n",
    "total_marks = 0\n",
    "for i in range(N):\n",
    "    t = data._make(input().split())\n",
    "    total_marks += int((getattr(t, 'MARKS')))\n",
    "print(round(total_marks/N, 2))"
   ]
  },
  {
   "cell_type": "code",
   "execution_count": null,
   "metadata": {},
   "outputs": [],
   "source": [
    "# Collections.OrderedDict()\n",
    "\n",
    "# Enter your code here. Read input from STDIN. Print output to STDOUT\n",
    "from collections import OrderedDict\n",
    "\n",
    "N = int(input())\n",
    "dictionary = OrderedDict()\n",
    "lst = [list(input().split()) for i in range(N)]\n",
    "for i in lst:\n",
    "    price = int(i.pop())\n",
    "    if ' '.join(i) not in dictionary.keys():\n",
    "        dictionary[' '.join(i)] = price\n",
    "    else:\n",
    "        dictionary[' '.join(i)] += price\n",
    "for k, v in dictionary.items():\n",
    "    print(f'{k} {v}', end = '\\n')"
   ]
  },
  {
   "cell_type": "code",
   "execution_count": null,
   "metadata": {},
   "outputs": [],
   "source": [
    "# Word Order\n",
    "\n",
    "# Enter your code here. Read input from STDIN. Print output to STDOUT\n",
    "from collections import Counter, namedtuple, OrderedDict, deque\n",
    "\n",
    "n = int(input())\n",
    "lst = [str(input()) for i in range(n)]\n",
    "lst = Counter(lst)\n",
    "print(len(lst.keys()))\n",
    "for k, v in lst.items():\n",
    "    print(v, end =' ')"
   ]
  },
  {
   "cell_type": "code",
   "execution_count": null,
   "metadata": {},
   "outputs": [],
   "source": [
    "# Collections.deque()\n",
    "\n",
    "# Enter your code here. Read input from STDIN. Print output to STDOUT\n",
    "from collections import deque\n",
    "\n",
    "N = int(input())\n",
    "d = deque()\n",
    "for i in range(N):\n",
    "    instruction = input().split()\n",
    "    if instruction[0] == 'append':\n",
    "        d.append(instruction[1])\n",
    "    elif instruction[0] == 'appendleft':\n",
    "        d.appendleft(instruction[1])\n",
    "    elif instruction[0] == 'pop':\n",
    "        d.pop()\n",
    "    elif instruction[0] == 'popleft':\n",
    "        d.popleft()\n",
    "        \n",
    "for i in d:\n",
    "    print(i, end=' ')"
   ]
  },
  {
   "cell_type": "code",
   "execution_count": null,
   "metadata": {},
   "outputs": [],
   "source": [
    "# Company Logo\n",
    "\n"
   ]
  },
  {
   "cell_type": "code",
   "execution_count": null,
   "metadata": {},
   "outputs": [],
   "source": [
    "# Piling Up!\n",
    "\n"
   ]
  },
  {
   "cell_type": "code",
   "execution_count": null,
   "metadata": {},
   "outputs": [],
   "source": [
    "# Calendar Module\n",
    "\n",
    "# Enter your code here. Read input from STDIN. Print output to STDOUT\n",
    "import calendar\n",
    "\n",
    "date = list(input().split())\n",
    "day_n = calendar.weekday(int(date[2]), int(date[0]), int(date[1]))\n",
    "if day_n == 0:\n",
    "    print('MONDAY')\n",
    "elif day_n == 1:\n",
    "    print('TUESDAY')\n",
    "elif day_n == 2:\n",
    "    print('WEDNESDAY')\n",
    "elif day_n == 3:\n",
    "    print('THURSDAY')\n",
    "elif day_n == 4:\n",
    "    print('FRIDAY')\n",
    "elif day_n == 5:\n",
    "    print('SATURDAY')\n",
    "else:\n",
    "    print('SUNDAY')\n"
   ]
  },
  {
   "cell_type": "code",
   "execution_count": null,
   "metadata": {},
   "outputs": [],
   "source": [
    "# Time Delta\n",
    "\n"
   ]
  },
  {
   "cell_type": "code",
   "execution_count": null,
   "metadata": {},
   "outputs": [],
   "source": [
    "# Exceptions\n",
    "\n",
    "# Enter your code here. Read input from STDIN. Print output to STDOUT\n",
    "\n",
    "T = int(input())\n",
    "for i in range(T):\n",
    "    values = input().split()\n",
    "    try:\n",
    "        print(int(values[0])//int(values[1]))\n",
    "    except ZeroDivisionError as e:\n",
    "        print(f'Error Code: {e}')\n",
    "    except ValueError as e:\n",
    "        print(f'Error Code: {e}')"
   ]
  },
  {
   "cell_type": "code",
   "execution_count": null,
   "metadata": {},
   "outputs": [],
   "source": [
    "# Zipped!\n",
    "\n",
    "# Enter your code here. Read input from STDIN. Print output to STDOUT\n",
    "\n",
    "N, X = map(int, input().split())\n",
    "grades = []\n",
    "for i in range(X):\n",
    "    subject = [float(j) for j in input().split()]\n",
    "    grades.append(subject)    \n",
    "\n",
    "for i in zip(*grades):\n",
    "    print(sum(i)/len(i))"
   ]
  },
  {
   "cell_type": "code",
   "execution_count": null,
   "metadata": {},
   "outputs": [],
   "source": [
    "# Athlete Sort\n",
    "\n"
   ]
  },
  {
   "cell_type": "code",
   "execution_count": null,
   "metadata": {},
   "outputs": [],
   "source": [
    "# ginortS\n",
    "\n"
   ]
  },
  {
   "cell_type": "code",
   "execution_count": null,
   "metadata": {},
   "outputs": [],
   "source": [
    "# Map and Lambda Function\n",
    "\n",
    "cube = lambda x:x**3 # complete the lambda function \n",
    "\n",
    "def fibonacci(n):\n",
    "    # return a list of fibonacci numbers\n",
    "    lst = []\n",
    "    for i in range(n):\n",
    "        if i < 2:\n",
    "            lst.append(i)\n",
    "        else:\n",
    "            lst.append(lst[i-1]+lst[i-2])\n",
    "    return lst"
   ]
  },
  {
   "cell_type": "code",
   "execution_count": null,
   "metadata": {},
   "outputs": [],
   "source": [
    "# Detect Floating Point Number\n",
    "\n",
    "# Enter your code here. Read input from STDIN. Print output to STDOUT\n",
    "import re\n",
    "\n",
    "T = int(input())\n",
    "for i in range(T):\n",
    "    N = input()\n",
    "    if bool(re.search(r\"^[+-]?\\d*\\.\\d+$\", N)) and float(N) != None:\n",
    "        print(True)\n",
    "    else:\n",
    "        print(False)"
   ]
  },
  {
   "cell_type": "code",
   "execution_count": null,
   "metadata": {},
   "outputs": [],
   "source": [
    "# Re.split()\n",
    "\n",
    "import re\n",
    "\n",
    "regex_pattern = r',|\\.'\n",
    "print('\\n'.join(re.split(regex_pattern, input())))"
   ]
  },
  {
   "cell_type": "code",
   "execution_count": null,
   "metadata": {},
   "outputs": [],
   "source": [
    "# Group(), Groups() & Groupdict()\n",
    "\n"
   ]
  },
  {
   "cell_type": "code",
   "execution_count": null,
   "metadata": {},
   "outputs": [],
   "source": [
    "# Re.findall() & Re.finditer()\n",
    "\n"
   ]
  },
  {
   "cell_type": "code",
   "execution_count": null,
   "metadata": {},
   "outputs": [],
   "source": [
    "# Re.start() & Re.end()"
   ]
  },
  {
   "cell_type": "code",
   "execution_count": null,
   "metadata": {},
   "outputs": [],
   "source": [
    "# Regex Substitution"
   ]
  },
  {
   "cell_type": "code",
   "execution_count": null,
   "metadata": {},
   "outputs": [],
   "source": [
    "# Validating Roman Numerals"
   ]
  },
  {
   "cell_type": "code",
   "execution_count": null,
   "metadata": {},
   "outputs": [],
   "source": [
    "# Validating Phone Numbers"
   ]
  },
  {
   "cell_type": "code",
   "execution_count": null,
   "metadata": {},
   "outputs": [],
   "source": [
    "# Validating or Parsing Email Addresses"
   ]
  },
  {
   "cell_type": "code",
   "execution_count": null,
   "metadata": {},
   "outputs": [],
   "source": [
    "# Hex Color Code"
   ]
  },
  {
   "cell_type": "code",
   "execution_count": null,
   "metadata": {},
   "outputs": [],
   "source": [
    "# HTML Parser - Part 1"
   ]
  },
  {
   "cell_type": "code",
   "execution_count": null,
   "metadata": {},
   "outputs": [],
   "source": [
    "# HTML Parser - Part 2"
   ]
  },
  {
   "cell_type": "code",
   "execution_count": null,
   "metadata": {},
   "outputs": [],
   "source": [
    "# Detect HTML Tags, Attributes and Attribute Values"
   ]
  },
  {
   "cell_type": "code",
   "execution_count": null,
   "metadata": {},
   "outputs": [],
   "source": [
    "# Validating UID"
   ]
  },
  {
   "cell_type": "code",
   "execution_count": null,
   "metadata": {},
   "outputs": [],
   "source": [
    "# Validating Credit Card Numbers"
   ]
  },
  {
   "cell_type": "code",
   "execution_count": null,
   "metadata": {},
   "outputs": [],
   "source": [
    "# Matrix Script"
   ]
  },
  {
   "cell_type": "code",
   "execution_count": null,
   "metadata": {},
   "outputs": [],
   "source": [
    "# XML 1 - Find the Score"
   ]
  },
  {
   "cell_type": "code",
   "execution_count": null,
   "metadata": {},
   "outputs": [],
   "source": [
    "# XML 2 - Find the Maximum Depth"
   ]
  },
  {
   "cell_type": "code",
   "execution_count": null,
   "metadata": {},
   "outputs": [],
   "source": [
    "# Standardize Mobile Numbers Using Decorators"
   ]
  },
  {
   "cell_type": "code",
   "execution_count": null,
   "metadata": {},
   "outputs": [],
   "source": [
    "# Decorators 2 - Name Directory"
   ]
  },
  {
   "cell_type": "code",
   "execution_count": null,
   "metadata": {},
   "outputs": [],
   "source": [
    "# Arrays\n",
    "import numpy\n",
    "\n",
    "def arrays(arr):\n",
    "    # complete this function\n",
    "    # use numpy.array\n",
    "    arr = [float(i) for i in arr]\n",
    "    return numpy.array((arr[::-1]))"
   ]
  },
  {
   "cell_type": "code",
   "execution_count": null,
   "metadata": {},
   "outputs": [],
   "source": [
    "# Shape and Reshape\n",
    "import numpy as np\n",
    "\n",
    "arr = list(map(int, input().split()))\n",
    "print(np.reshape(np.array(arr), (3,3)))"
   ]
  },
  {
   "cell_type": "code",
   "execution_count": null,
   "metadata": {},
   "outputs": [],
   "source": [
    "# Transpose and Flatten\n",
    "\n",
    "# Enter your code here. Read input from STDIN. Print output to STDOUT\n",
    "import numpy as np\n",
    "\n",
    "N, M = map(int, input().split())\n",
    "mat = []\n",
    "for i in range(N):\n",
    "    row = list(map(int, input().split()))\n",
    "    mat.append(row)\n",
    "mat = np.array(mat)\n",
    "print(np.transpose(mat))\n",
    "print(mat.flatten())"
   ]
  },
  {
   "cell_type": "code",
   "execution_count": null,
   "metadata": {},
   "outputs": [],
   "source": [
    "# Concatenate\n",
    "\n",
    "# Enter your code here. Read input from STDIN. Print output to STDOUT\n",
    "import numpy as np\n",
    "\n",
    "N, M, P = map(int, input().split())\n",
    "mat_N = []\n",
    "mat_M = []\n",
    "for i in range(N):\n",
    "    row_N = list(map(int, input().split()))\n",
    "    mat_N.append(row_N)\n",
    "for j in range(M):\n",
    "    row_M = list(map(int, input().split()))\n",
    "    mat_M.append(row_M)\n",
    "mat_N, mat_M = np.array(mat_N), np.array(mat_M)\n",
    "print(np.concatenate((mat_N, mat_M), axis = 0))"
   ]
  },
  {
   "cell_type": "code",
   "execution_count": null,
   "metadata": {},
   "outputs": [],
   "source": [
    "# Zeros and Ones\n",
    "\n",
    "# Enter your code here. Read input from STDIN. Print output to STDOUT\n",
    "import numpy as np\n",
    "\n",
    "dim = list(map(int, input().split()))\n",
    "print(np.zeros(tuple(dim), dtype = np.int))\n",
    "print(np.ones(tuple(dim), dtype = np.int))"
   ]
  },
  {
   "cell_type": "code",
   "execution_count": null,
   "metadata": {},
   "outputs": [],
   "source": [
    "# Eye and Identity\n",
    "\n",
    "# Enter your code here. Read input from STDIN. Print output to STDOUT\n",
    "import numpy as np\n",
    "np.set_printoptions(legacy = '1.13')\n",
    "\n",
    "dim = list(map(int, input().split()))\n",
    "print(np.eye(N=dim[0], M=dim[1]))"
   ]
  },
  {
   "cell_type": "code",
   "execution_count": null,
   "metadata": {},
   "outputs": [],
   "source": [
    "# Array Mathematics\n",
    "\n",
    "# Enter your code here. Read input from STDIN. Print output to STDOUT\n",
    "import numpy as np\n",
    "\n",
    "dim = list(map(int, input().split()))\n",
    "A = []\n",
    "B = []\n",
    "for i in range(dim[0]):\n",
    "    A.append(list(map(int, input().split())))\n",
    "for j in range(dim[0]):\n",
    "    B.append(list(map(int, input().split())))\n",
    "A,B = np.array(A), np.array(B)\n",
    "print(np.add(A, B))\n",
    "print(np.subtract(A, B))\n",
    "print(np.multiply(A, B))\n",
    "print(np.floor_divide(A,B))\n",
    "print(np.mod(A,B))\n",
    "print(np.power(A,B))"
   ]
  },
  {
   "cell_type": "code",
   "execution_count": null,
   "metadata": {},
   "outputs": [],
   "source": [
    "# Floor, Ceil and Rint\n",
    "\n",
    "# Enter your code here. Read input from STDIN. Print output to STDOUT\n",
    "import numpy as np\n",
    "np.set_printoptions(legacy = '1.13')\n",
    "\n",
    "\n",
    "arr = np.array(list(map(float, input().split())))\n",
    "print(np.floor(arr))\n",
    "print(np.ceil(arr))\n",
    "print(np.rint(arr))"
   ]
  },
  {
   "cell_type": "code",
   "execution_count": null,
   "metadata": {},
   "outputs": [],
   "source": [
    "# Sum and Prod\n",
    "\n",
    "# Enter your code here. Read input from STDIN. Print output to STDOUT\n",
    "import numpy as np\n",
    "\n",
    "dim = list(map(int, input().split()))\n",
    "A = []\n",
    "for i in range(dim[0]):\n",
    "    A.append(list(map(int, input().split())))\n",
    "print(np.prod(np.sum(A, axis = 0), axis = 0))"
   ]
  },
  {
   "cell_type": "code",
   "execution_count": null,
   "metadata": {},
   "outputs": [],
   "source": [
    "# Min and Max\n",
    "\n",
    "# Enter your code here. Read input from STDIN. Print output to STDOUT\n",
    "import numpy as np\n",
    "\n",
    "arr = []\n",
    "dim = list(map(int, input().split()))\n",
    "for i in range(dim[0]):\n",
    "    arr.append(list(map(int, input().split())))\n",
    "\n",
    "print(np.max(np.min(np.array(arr), axis = 1)))"
   ]
  },
  {
   "cell_type": "code",
   "execution_count": null,
   "metadata": {},
   "outputs": [],
   "source": [
    "# Mean, Var and Std\n",
    "\n",
    "# Enter your code here. Read input from STDIN. Print output to STDOUT\n",
    "import numpy as np\n",
    "\n",
    "arr = []\n",
    "dim = list(map(int, input().split()))\n",
    "for i in range(dim[0]):\n",
    "    arr.append(list(map(int, input().split())))\n",
    "print(np.mean(np.array(arr), axis = 1))\n",
    "print(np.var(np.array(arr), axis = 0))\n",
    "\n",
    "np.set_printoptions(legacy = '1.13')\n",
    "print(round(np.std(np.array(arr), axis = None),11))"
   ]
  },
  {
   "cell_type": "code",
   "execution_count": null,
   "metadata": {},
   "outputs": [],
   "source": [
    "# Dot and Cross\n",
    "\n",
    "# Enter your code here. Read input from STDIN. Print output to STDOUT\n",
    "import numpy as np\n",
    "\n",
    "A = []\n",
    "B = []\n",
    "\n",
    "N = int(input())\n",
    "for i in range(N):\n",
    "    A.append(list(map(int, input().split())))\n",
    "for j in range(N):\n",
    "    B.append(list(map(int, input().split())))\n",
    "    \n",
    "print(np.dot(np.array(A), np.array(B)))"
   ]
  },
  {
   "cell_type": "code",
   "execution_count": null,
   "metadata": {},
   "outputs": [],
   "source": [
    "# Inner and Outer\n",
    "\n",
    "# Enter your code here. Read input from STDIN. Print output to STDOUT\n",
    "import numpy as np\n",
    "\n",
    "A, B = np.array(list(map(int, input().split()))), np.array(list(map(int, input().split())))\n",
    "\n",
    "print(np.inner(A, B))\n",
    "print(np.outer(A, B))"
   ]
  },
  {
   "cell_type": "code",
   "execution_count": null,
   "metadata": {},
   "outputs": [],
   "source": [
    "# Polynomials\n",
    "\n",
    "# Enter your code here. Read input from STDIN. Print output to STDOUT\n",
    "import numpy as np\n",
    "\n",
    "coef = np.array(input().split(), float)\n",
    "x = float(input())\n",
    "\n",
    "print(np.polyval(coef, x))"
   ]
  },
  {
   "cell_type": "code",
   "execution_count": null,
   "metadata": {},
   "outputs": [],
   "source": [
    "# Linear Algebra\n",
    "\n",
    "# Enter your code here. Read input from STDIN. Print output to STDOUT\n",
    "import numpy as np\n",
    "\n",
    "N = int(input())\n",
    "A = []\n",
    "for i in range(N):\n",
    "    A.append(list(map(float, input().split())))\n",
    "\n",
    "print(round(np.linalg.det(np.array(A)), 2))"
   ]
  },
  {
   "cell_type": "code",
   "execution_count": null,
   "metadata": {},
   "outputs": [],
   "source": []
  }
 ],
 "metadata": {
  "kernelspec": {
   "display_name": "Python 3",
   "language": "python",
   "name": "python3"
  },
  "language_info": {
   "codemirror_mode": {
    "name": "ipython",
    "version": 3
   },
   "file_extension": ".py",
   "mimetype": "text/x-python",
   "name": "python",
   "nbconvert_exporter": "python",
   "pygments_lexer": "ipython3",
   "version": "3.13.0"
  }
 },
 "nbformat": 4,
 "nbformat_minor": 2
}
